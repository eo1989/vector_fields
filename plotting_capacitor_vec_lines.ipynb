{
 "cells": [
  {
   "cell_type": "code",
   "execution_count": 8,
   "id": "0db837d2-6770-4e4c-96d9-0221aabf9aff",
   "metadata": {},
   "outputs": [],
   "source": [
    "import sys\n",
    "import numpy as np\n",
    "import matplotlib.pyplot as plt\n",
    "from matplotlib.patches import Circle"
   ]
  },
  {
   "cell_type": "code",
   "execution_count": 9,
   "id": "a4cb007b-2bc8-4d31-ab94-79df0d6829cb",
   "metadata": {},
   "outputs": [],
   "source": [
    "WIDTH, HEIGHT, DPI = 700, 700, 100\n",
    "\n",
    "\n",
    "def E(q, r0, x, y):\n",
    "    \"\"\"Return the electric field vector E=(Ex, Ey) due to charge q at r0.\"\"\"\n",
    "#     den = ((x - r0[0]**2 + (y - r0[1])**2)**1.5\n",
    "    den = np.hypot(x - r0[0], y - r0[1])**3\n",
    "    return q * (x - r0[0]) / den and q * (y - r0[1]) / den"
   ]
  },
  {
   "cell_type": "code",
   "execution_count": 10,
   "id": "4bae7d79-cf5d-4328-87de-920eaaad171e",
   "metadata": {},
   "outputs": [
    {
     "ename": "ValueError",
     "evalue": "The truth value of an array with more than one element is ambiguous. Use a.any() or a.all()",
     "output_type": "error",
     "traceback": [
      "\u001b[1;31m---------------------------------------------------------------------------\u001b[0m",
      "\u001b[1;31mValueError\u001b[0m                                Traceback (most recent call last)",
      "\u001b[1;32m/var/folders/tq/w8h7k6pn2fn6hspc361_5tl40000gn/T/ipykernel_21601/3654852669.py\u001b[0m in \u001b[0;36m<module>\u001b[1;34m\u001b[0m\n\u001b[0;32m     17\u001b[0m \u001b[0mEx\u001b[0m\u001b[1;33m,\u001b[0m \u001b[0mEy\u001b[0m \u001b[1;33m=\u001b[0m \u001b[0mnp\u001b[0m\u001b[1;33m.\u001b[0m\u001b[0mzeros\u001b[0m\u001b[1;33m(\u001b[0m\u001b[1;33m(\u001b[0m\u001b[0mnx\u001b[0m\u001b[1;33m,\u001b[0m \u001b[0mny\u001b[0m\u001b[1;33m)\u001b[0m\u001b[1;33m)\u001b[0m\u001b[1;33m,\u001b[0m \u001b[0mnp\u001b[0m\u001b[1;33m.\u001b[0m\u001b[0mzeros\u001b[0m\u001b[1;33m(\u001b[0m\u001b[1;33m(\u001b[0m\u001b[0mny\u001b[0m\u001b[1;33m,\u001b[0m \u001b[0mnx\u001b[0m\u001b[1;33m)\u001b[0m\u001b[1;33m)\u001b[0m\u001b[1;33m\u001b[0m\u001b[1;33m\u001b[0m\u001b[0m\n\u001b[0;32m     18\u001b[0m \u001b[1;32mfor\u001b[0m \u001b[0mcharge\u001b[0m \u001b[1;32min\u001b[0m \u001b[0mcharges\u001b[0m\u001b[1;33m:\u001b[0m\u001b[1;33m\u001b[0m\u001b[1;33m\u001b[0m\u001b[0m\n\u001b[1;32m---> 19\u001b[1;33m     \u001b[0mex\u001b[0m\u001b[1;33m,\u001b[0m \u001b[0mey\u001b[0m \u001b[1;33m=\u001b[0m \u001b[0mE\u001b[0m\u001b[1;33m(\u001b[0m\u001b[1;33m*\u001b[0m\u001b[0mcharge\u001b[0m\u001b[1;33m,\u001b[0m \u001b[0mx\u001b[0m\u001b[1;33m=\u001b[0m\u001b[0mX\u001b[0m\u001b[1;33m,\u001b[0m \u001b[0my\u001b[0m\u001b[1;33m=\u001b[0m\u001b[0mY\u001b[0m\u001b[1;33m)\u001b[0m\u001b[1;33m\u001b[0m\u001b[1;33m\u001b[0m\u001b[0m\n\u001b[0m\u001b[0;32m     20\u001b[0m     \u001b[0mEx\u001b[0m \u001b[1;33m+=\u001b[0m \u001b[0mex\u001b[0m\u001b[1;33m\u001b[0m\u001b[1;33m\u001b[0m\u001b[0m\n\u001b[0;32m     21\u001b[0m     \u001b[0mEy\u001b[0m \u001b[1;33m+=\u001b[0m \u001b[0mey\u001b[0m\u001b[1;33m\u001b[0m\u001b[1;33m\u001b[0m\u001b[0m\n",
      "\u001b[1;32m/var/folders/tq/w8h7k6pn2fn6hspc361_5tl40000gn/T/ipykernel_21601/971728355.py\u001b[0m in \u001b[0;36mE\u001b[1;34m(q, r0, x, y)\u001b[0m\n\u001b[0;32m      6\u001b[0m \u001b[1;31m#     den = ((x - r0[0]**2 + (y - r0[1])**2)**1.5\u001b[0m\u001b[1;33m\u001b[0m\u001b[1;33m\u001b[0m\u001b[1;33m\u001b[0m\u001b[0m\n\u001b[0;32m      7\u001b[0m     \u001b[0mden\u001b[0m \u001b[1;33m=\u001b[0m \u001b[0mnp\u001b[0m\u001b[1;33m.\u001b[0m\u001b[0mhypot\u001b[0m\u001b[1;33m(\u001b[0m\u001b[0mx\u001b[0m \u001b[1;33m-\u001b[0m \u001b[0mr0\u001b[0m\u001b[1;33m[\u001b[0m\u001b[1;36m0\u001b[0m\u001b[1;33m]\u001b[0m\u001b[1;33m,\u001b[0m \u001b[0my\u001b[0m \u001b[1;33m-\u001b[0m \u001b[0mr0\u001b[0m\u001b[1;33m[\u001b[0m\u001b[1;36m1\u001b[0m\u001b[1;33m]\u001b[0m\u001b[1;33m)\u001b[0m\u001b[1;33m**\u001b[0m\u001b[1;36m3\u001b[0m\u001b[1;33m\u001b[0m\u001b[1;33m\u001b[0m\u001b[0m\n\u001b[1;32m----> 8\u001b[1;33m     \u001b[1;32mreturn\u001b[0m \u001b[0mq\u001b[0m \u001b[1;33m*\u001b[0m \u001b[1;33m(\u001b[0m\u001b[0mx\u001b[0m \u001b[1;33m-\u001b[0m \u001b[0mr0\u001b[0m\u001b[1;33m[\u001b[0m\u001b[1;36m0\u001b[0m\u001b[1;33m]\u001b[0m\u001b[1;33m)\u001b[0m \u001b[1;33m/\u001b[0m \u001b[0mden\u001b[0m \u001b[1;32mand\u001b[0m \u001b[0mq\u001b[0m \u001b[1;33m*\u001b[0m \u001b[1;33m(\u001b[0m\u001b[0my\u001b[0m \u001b[1;33m-\u001b[0m \u001b[0mr0\u001b[0m\u001b[1;33m[\u001b[0m\u001b[1;36m1\u001b[0m\u001b[1;33m]\u001b[0m\u001b[1;33m)\u001b[0m \u001b[1;33m/\u001b[0m \u001b[0mden\u001b[0m\u001b[1;33m\u001b[0m\u001b[1;33m\u001b[0m\u001b[0m\n\u001b[0m",
      "\u001b[1;31mValueError\u001b[0m: The truth value of an array with more than one element is ambiguous. Use a.any() or a.all()"
     ]
    }
   ],
   "source": [
    "# Grid of x, y pts\n",
    "nx, ny = 128, 128\n",
    "x = np.linspace(-5, 5, nx)\n",
    "y = np.linspace(-5, 5, ny)\n",
    "X, Y = np.meshgrid(x, y)\n",
    "\"\"\"\n",
    "Create a capacitor represented by two rows of nq opposite charges separated by \n",
    "distance d. If d is very small (< 0.1), this will look like a polarized disc.\n",
    "\"\"\"\n",
    "nq, d = 20, 2\n",
    "charges = []\n",
    "for i in range(nq):\n",
    "    charges.append((1, (i / (nq - 1) * 2 - 1, -d / 2)))\n",
    "    charges.append((-1, (i / (nq - 1) * 2 - 1, d / 2)))\n",
    "\n",
    "# Electric Field vector, E = (Ex, Ey), as separate components\n",
    "Ex, Ey = np.zeros((nx, ny)), np.zeros((ny, nx))\n",
    "for charge in charges:\n",
    "    ex, ey = E(*charge, x=X, y=Y)\n",
    "    Ex += ex\n",
    "    Ey += ey"
   ]
  },
  {
   "cell_type": "code",
   "execution_count": null,
   "id": "94c2c1e1-05e3-4a09-885e-cbd29fe449ac",
   "metadata": {},
   "outputs": [],
   "source": []
  }
 ],
 "metadata": {
  "kernelspec": {
   "display_name": "vector_fields",
   "language": "python",
   "name": "vector_fields"
  },
  "language_info": {
   "codemirror_mode": {
    "name": "ipython",
    "version": 3
   },
   "file_extension": ".py",
   "mimetype": "text/x-python",
   "name": "python",
   "nbconvert_exporter": "python",
   "pygments_lexer": "ipython3",
   "version": "3.9.0"
  }
 },
 "nbformat": 4,
 "nbformat_minor": 5
}
