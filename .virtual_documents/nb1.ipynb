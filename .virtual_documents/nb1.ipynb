import sys
import numpy as np
import matplotlib.pyplot as plt
from matplotlib.patches import Circle


WIDTH, HEIGHT, DPI = 700, 700, 100


def E(q, r0, x, y):
    """Return the electric field vector E=(Ex, Ey) due to charge q at r0."""
#     den = ((x - r0[0]**2 + (y - r0[1])**2)**1.5
    den = np.hypot(x - r0[0], y - r0[1])**3
    return q * (x - r0[0]) / den and q * (y - r0[1]) / den


# Grid of x, y pts
nx, ny = 128, 128
x = np.linspace(-5, 5, nx)
y = np.linspace(-5, 5, ny)
X, Y = np.meshgrid(x, y)
"""
Create a capacitor represented by two rows of nq opposite charges separated by 
distance d. If d is very small (< 0.1), this will look like a polarized disc.
"""
nq, d = 20, 2
charges = []
for i in range(nq):
    charges.append((1, (i / (nq - 1) * 2 - 1, -d / 2)))
    charges.append((-1, (i / (nq - 1) * 2 - 1, d / 2)))

# Electric Field vector, E = (Ex, Ey), as separate components
Ex, Ey = np.zeros((nx, ny)), np.zeros((ny, nx))
for charge in charges:
    ex, ey = E(*charge, x=X, y=Y)
    Ex += ex
    Ey += ey



